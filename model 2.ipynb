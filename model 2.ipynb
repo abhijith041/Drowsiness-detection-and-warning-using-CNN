{
 "cells": [
  {
   "cell_type": "code",
   "execution_count": 1,
   "metadata": {},
   "outputs": [],
   "source": [
    "import os\n",
    "import cv2\n",
    "from keras.preprocessing import image\n",
    "import matplotlib.pyplot as plt \n",
    "import numpy as np\n",
    "from keras.utils.np_utils import to_categorical\n",
    "import random,shutil\n",
    "from keras.models import Sequential\n",
    "from keras.layers import Dropout,Conv2D,Flatten,Dense, MaxPooling2D, BatchNormalization\n",
    "from keras.models import load_model"
   ]
  },
  {
   "cell_type": "code",
   "execution_count": 2,
   "metadata": {},
   "outputs": [],
   "source": [
    "def generator(dir, gen=image.ImageDataGenerator(rescale=1./255), shuffle=True,batch_size=1,target_size=(24,24),class_mode='categorical' ):\n",
    "\n",
    "    return gen.flow_from_directory(dir,batch_size=batch_size,shuffle=shuffle,color_mode='grayscale',class_mode=class_mode,target_size=target_size)"
   ]
  },
  {
   "cell_type": "code",
   "execution_count": 3,
   "metadata": {},
   "outputs": [
    {
     "name": "stdout",
     "output_type": "stream",
     "text": [
      "Found 1234 images belonging to 2 classes.\n",
      "Found 218 images belonging to 2 classes.\n",
      "38 6\n"
     ]
    }
   ],
   "source": [
    "BS= 32\n",
    "TS=(24,24)\n",
    "train_batch= generator('data/train',shuffle=True, batch_size=BS,target_size=TS)\n",
    "valid_batch= generator('data/valid',shuffle=True, batch_size=BS,target_size=TS)\n",
    "SPE= len(train_batch.classes)//BS\n",
    "VS = len(valid_batch.classes)//BS\n",
    "print(SPE,VS)"
   ]
  },
  {
   "cell_type": "code",
   "execution_count": 4,
   "metadata": {},
   "outputs": [],
   "source": [
    "model = Sequential([\n",
    "    Conv2D(32, kernel_size=(3, 3), activation='relu', input_shape=(24,24,1)),\n",
    "    MaxPooling2D(pool_size=(1,1)),\n",
    "    Conv2D(32,(3,3),activation='relu'),\n",
    "    MaxPooling2D(pool_size=(1,1)),\n",
    "#32 convolution filters used each of size 3x3\n",
    "#again\n",
    "    Conv2D(64, (3, 3), activation='relu'),\n",
    "    MaxPooling2D(pool_size=(1,1)),\n",
    "\n",
    "#64 convolution filters used each of size 3x3\n",
    "#choose the best features via pooling\n",
    "    \n",
    "#randomly turn neurons on and off to improve convergence\n",
    "    Dropout(0.25),\n",
    "#flatten since too many dimensions, we only want a classification output\n",
    "    Flatten(),\n",
    "#fully connected to get all relevant data\n",
    "    Dense(128, activation='relu'),\n",
    "#one more dropout for convergence' sake :) \n",
    "    Dropout(0.5),\n",
    "#output a softmax to squash the matrix into output probabilities\n",
    "    Dense(2, activation='softmax')\n",
    "])\n"
   ]
  },
  {
   "cell_type": "code",
   "execution_count": 7,
   "metadata": {},
   "outputs": [],
   "source": [
    "model.compile(optimizer='adam',loss='categorical_crossentropy',metrics=['accuracy'])"
   ]
  },
  {
   "cell_type": "code",
   "execution_count": 8,
   "metadata": {},
   "outputs": [
    {
     "name": "stdout",
     "output_type": "stream",
     "text": [
      "Model: \"sequential\"\n",
      "_________________________________________________________________\n",
      "Layer (type)                 Output Shape              Param #   \n",
      "=================================================================\n",
      "conv2d (Conv2D)              (None, 22, 22, 32)        320       \n",
      "_________________________________________________________________\n",
      "max_pooling2d (MaxPooling2D) (None, 22, 22, 32)        0         \n",
      "_________________________________________________________________\n",
      "conv2d_1 (Conv2D)            (None, 20, 20, 32)        9248      \n",
      "_________________________________________________________________\n",
      "max_pooling2d_1 (MaxPooling2 (None, 20, 20, 32)        0         \n",
      "_________________________________________________________________\n",
      "conv2d_2 (Conv2D)            (None, 18, 18, 64)        18496     \n",
      "_________________________________________________________________\n",
      "max_pooling2d_2 (MaxPooling2 (None, 18, 18, 64)        0         \n",
      "_________________________________________________________________\n",
      "dropout (Dropout)            (None, 18, 18, 64)        0         \n",
      "_________________________________________________________________\n",
      "flatten (Flatten)            (None, 20736)             0         \n",
      "_________________________________________________________________\n",
      "dense (Dense)                (None, 128)               2654336   \n",
      "_________________________________________________________________\n",
      "dropout_1 (Dropout)          (None, 128)               0         \n",
      "_________________________________________________________________\n",
      "dense_1 (Dense)              (None, 2)                 258       \n",
      "=================================================================\n",
      "Total params: 2,682,658\n",
      "Trainable params: 2,682,658\n",
      "Non-trainable params: 0\n",
      "_________________________________________________________________\n"
     ]
    }
   ],
   "source": [
    "model.summary()"
   ]
  },
  {
   "cell_type": "code",
   "execution_count": 10,
   "metadata": {},
   "outputs": [
    {
     "name": "stderr",
     "output_type": "stream",
     "text": [
      "H:\\apps files\\Anaconda3\\lib\\site-packages\\tensorflow\\python\\keras\\engine\\training.py:1844: UserWarning: `Model.fit_generator` is deprecated and will be removed in a future version. Please use `Model.fit`, which supports generators.\n",
      "  warnings.warn('`Model.fit_generator` is deprecated and '\n"
     ]
    },
    {
     "name": "stdout",
     "output_type": "stream",
     "text": [
      "Epoch 1/15\n",
      "38/38 [==============================] - 23s 459ms/step - loss: 0.5464 - accuracy: 0.7029 - val_loss: 0.2090 - val_accuracy: 0.9115\n",
      "Epoch 2/15\n",
      "38/38 [==============================] - 9s 230ms/step - loss: 0.1934 - accuracy: 0.9318 - val_loss: 0.1254 - val_accuracy: 0.9531\n",
      "Epoch 3/15\n",
      "38/38 [==============================] - 6s 171ms/step - loss: 0.1251 - accuracy: 0.9559 - val_loss: 0.1269 - val_accuracy: 0.9427\n",
      "Epoch 4/15\n",
      "38/38 [==============================] - 6s 170ms/step - loss: 0.0805 - accuracy: 0.9717 - val_loss: 0.1000 - val_accuracy: 0.9531\n",
      "Epoch 5/15\n",
      "38/38 [==============================] - 9s 235ms/step - loss: 0.0627 - accuracy: 0.9773 - val_loss: 0.1093 - val_accuracy: 0.9583\n",
      "Epoch 6/15\n",
      "38/38 [==============================] - 9s 229ms/step - loss: 0.0492 - accuracy: 0.9782 - val_loss: 0.1269 - val_accuracy: 0.9583\n",
      "Epoch 7/15\n",
      "38/38 [==============================] - 8s 209ms/step - loss: 0.0637 - accuracy: 0.9809 - val_loss: 0.0997 - val_accuracy: 0.9583\n",
      "Epoch 8/15\n",
      "38/38 [==============================] - 9s 239ms/step - loss: 0.0309 - accuracy: 0.9896 - val_loss: 0.0485 - val_accuracy: 0.9844\n",
      "Epoch 9/15\n",
      "38/38 [==============================] - 9s 247ms/step - loss: 0.0317 - accuracy: 0.9873 - val_loss: 0.0812 - val_accuracy: 0.9531\n",
      "Epoch 10/15\n",
      "38/38 [==============================] - 7s 185ms/step - loss: 0.0208 - accuracy: 0.9944 - val_loss: 0.0988 - val_accuracy: 0.9583\n",
      "Epoch 11/15\n",
      "38/38 [==============================] - 6s 171ms/step - loss: 0.0219 - accuracy: 0.9936 - val_loss: 0.1078 - val_accuracy: 0.9583\n",
      "Epoch 12/15\n",
      "38/38 [==============================] - 10s 260ms/step - loss: 0.0249 - accuracy: 0.9888 - val_loss: 0.1713 - val_accuracy: 0.9323\n",
      "Epoch 13/15\n",
      "38/38 [==============================] - 8s 195ms/step - loss: 0.0600 - accuracy: 0.9782 - val_loss: 0.0853 - val_accuracy: 0.9688\n",
      "Epoch 14/15\n",
      "38/38 [==============================] - 7s 177ms/step - loss: 0.0279 - accuracy: 0.9925 - val_loss: 0.0881 - val_accuracy: 0.9740\n",
      "Epoch 15/15\n",
      "38/38 [==============================] - 10s 267ms/step - loss: 0.0111 - accuracy: 0.9986 - val_loss: 0.0915 - val_accuracy: 0.9583\n"
     ]
    },
    {
     "data": {
      "text/plain": [
       "<tensorflow.python.keras.callbacks.History at 0x15e65485460>"
      ]
     },
     "execution_count": 10,
     "metadata": {},
     "output_type": "execute_result"
    }
   ],
   "source": [
    "model.fit_generator(train_batch, validation_data=valid_batch,epochs=15,steps_per_epoch=SPE ,validation_steps=VS)"
   ]
  },
  {
   "cell_type": "code",
   "execution_count": 11,
   "metadata": {},
   "outputs": [],
   "source": [
    "model.save('models/cnnCat2.h5', overwrite=True)"
   ]
  },
  {
   "cell_type": "code",
   "execution_count": null,
   "metadata": {},
   "outputs": [],
   "source": []
  }
 ],
 "metadata": {
  "kernelspec": {
   "display_name": "Python 3",
   "language": "python",
   "name": "python3"
  },
  "language_info": {
   "codemirror_mode": {
    "name": "ipython",
    "version": 3
   },
   "file_extension": ".py",
   "mimetype": "text/x-python",
   "name": "python",
   "nbconvert_exporter": "python",
   "pygments_lexer": "ipython3",
   "version": "3.8.3"
  }
 },
 "nbformat": 4,
 "nbformat_minor": 4
}
